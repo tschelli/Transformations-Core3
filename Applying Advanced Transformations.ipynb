{
 "cells": [
  {
   "cell_type": "markdown",
   "id": "018abcc0",
   "metadata": {},
   "source": [
    "# Advanced Transformations - Core Assignment 3\n",
    "\n",
    "- Name: Tyler Schelling\n",
    "- Date: 12/22/2022"
   ]
  },
  {
   "cell_type": "markdown",
   "id": "5422b786",
   "metadata": {},
   "source": [
    "## The Task\n",
    "\n",
    "1. Clean the files and combine them into one final DataFrame.\n",
    "- This dataframe should have the following columns:\n",
    "    - Hero (Just the name of the Hero)\n",
    "    - Publisher\n",
    "    - Gender\n",
    "    - Eye color\n",
    "    - Race\n",
    "    - Hair color\n",
    "    - Height (numeric)\n",
    "    - Skin color\n",
    "    - Alignment\n",
    "    - Weight (numeric)\n",
    "    - Plus, one-hot-encoded columns for every power that appears in the dataset. E.g.:\n",
    "        - Agility\n",
    "        - Flight\n",
    "        - Superspeed\n",
    "        - etc.\n",
    "\n",
    "Hint: There is a space in \"100 kg\" or \"52.5 cm\"\n",
    "\n",
    "2. Use your combined DataFrame to answer the following questions.\n",
    "\n",
    "    1. Compare the average weight of super powers who have Super Speed to those who do not.\n",
    "    2. What is the average height of heroes for each publisher?\n",
    "    \n",
    "    \n",
    "Source: https://www.kaggle.com/datasets/claudiodavi/superhero-set"
   ]
  },
  {
   "cell_type": "markdown",
   "id": "52f9b772",
   "metadata": {},
   "source": [
    "## Import Libraries"
   ]
  },
  {
   "cell_type": "code",
   "execution_count": 33,
   "id": "827b64b9",
   "metadata": {},
   "outputs": [],
   "source": [
    "import pandas as pd\n",
    "import numpy as np\n",
    "import json, os\n",
    "import warnings\n",
    "import seaborn as sns\n",
    "import matplotlib.pyplot as plt\n",
    "\n",
    "warnings.filterwarnings(\"ignore\")"
   ]
  },
  {
   "cell_type": "markdown",
   "id": "a9fdbf61",
   "metadata": {},
   "source": [
    "## Download Data"
   ]
  },
  {
   "cell_type": "markdown",
   "id": "e704588d",
   "metadata": {},
   "source": [
    "### Superhero Info"
   ]
  },
  {
   "cell_type": "code",
   "execution_count": 2,
   "id": "2a27ed2d",
   "metadata": {},
   "outputs": [],
   "source": [
    "superhero_info_df = pd.read_csv(\"Data/superhero_info.csv\")"
   ]
  },
  {
   "cell_type": "code",
   "execution_count": 3,
   "id": "00073020",
   "metadata": {
    "scrolled": true
   },
   "outputs": [
    {
     "data": {
      "text/html": [
       "<div>\n",
       "<style scoped>\n",
       "    .dataframe tbody tr th:only-of-type {\n",
       "        vertical-align: middle;\n",
       "    }\n",
       "\n",
       "    .dataframe tbody tr th {\n",
       "        vertical-align: top;\n",
       "    }\n",
       "\n",
       "    .dataframe thead th {\n",
       "        text-align: right;\n",
       "    }\n",
       "</style>\n",
       "<table border=\"1\" class=\"dataframe\">\n",
       "  <thead>\n",
       "    <tr style=\"text-align: right;\">\n",
       "      <th></th>\n",
       "      <th>Hero|Publisher</th>\n",
       "      <th>Gender</th>\n",
       "      <th>Race</th>\n",
       "      <th>Alignment</th>\n",
       "      <th>Hair color</th>\n",
       "      <th>Eye color</th>\n",
       "      <th>Skin color</th>\n",
       "      <th>Measurements</th>\n",
       "    </tr>\n",
       "  </thead>\n",
       "  <tbody>\n",
       "    <tr>\n",
       "      <th>0</th>\n",
       "      <td>A-Bomb|Marvel Comics</td>\n",
       "      <td>Male</td>\n",
       "      <td>Human</td>\n",
       "      <td>good</td>\n",
       "      <td>No Hair</td>\n",
       "      <td>yellow</td>\n",
       "      <td>Unknown</td>\n",
       "      <td>{'Height': '203.0 cm', 'Weight': '441.0 kg'}</td>\n",
       "    </tr>\n",
       "    <tr>\n",
       "      <th>1</th>\n",
       "      <td>Abe Sapien|Dark Horse Comics</td>\n",
       "      <td>Male</td>\n",
       "      <td>Icthyo Sapien</td>\n",
       "      <td>good</td>\n",
       "      <td>No Hair</td>\n",
       "      <td>blue</td>\n",
       "      <td>blue</td>\n",
       "      <td>{'Height': '191.0 cm', 'Weight': '65.0 kg'}</td>\n",
       "    </tr>\n",
       "    <tr>\n",
       "      <th>2</th>\n",
       "      <td>Abin Sur|DC Comics</td>\n",
       "      <td>Male</td>\n",
       "      <td>Ungaran</td>\n",
       "      <td>good</td>\n",
       "      <td>No Hair</td>\n",
       "      <td>blue</td>\n",
       "      <td>red</td>\n",
       "      <td>{'Height': '185.0 cm', 'Weight': '90.0 kg'}</td>\n",
       "    </tr>\n",
       "  </tbody>\n",
       "</table>\n",
       "</div>"
      ],
      "text/plain": [
       "                 Hero|Publisher Gender           Race Alignment Hair color  \\\n",
       "0          A-Bomb|Marvel Comics   Male          Human      good    No Hair   \n",
       "1  Abe Sapien|Dark Horse Comics   Male  Icthyo Sapien      good    No Hair   \n",
       "2            Abin Sur|DC Comics   Male        Ungaran      good    No Hair   \n",
       "\n",
       "  Eye color Skin color                                  Measurements  \n",
       "0    yellow    Unknown  {'Height': '203.0 cm', 'Weight': '441.0 kg'}  \n",
       "1      blue       blue   {'Height': '191.0 cm', 'Weight': '65.0 kg'}  \n",
       "2      blue        red   {'Height': '185.0 cm', 'Weight': '90.0 kg'}  "
      ]
     },
     "execution_count": 3,
     "metadata": {},
     "output_type": "execute_result"
    }
   ],
   "source": [
    "superhero_info_df.head(3)"
   ]
  },
  {
   "cell_type": "code",
   "execution_count": 4,
   "id": "889820f7",
   "metadata": {},
   "outputs": [
    {
     "name": "stdout",
     "output_type": "stream",
     "text": [
      "<class 'pandas.core.frame.DataFrame'>\n",
      "RangeIndex: 463 entries, 0 to 462\n",
      "Data columns (total 8 columns):\n",
      " #   Column          Non-Null Count  Dtype \n",
      "---  ------          --------------  ----- \n",
      " 0   Hero|Publisher  463 non-null    object\n",
      " 1   Gender          463 non-null    object\n",
      " 2   Race            463 non-null    object\n",
      " 3   Alignment       463 non-null    object\n",
      " 4   Hair color      463 non-null    object\n",
      " 5   Eye color       463 non-null    object\n",
      " 6   Skin color      463 non-null    object\n",
      " 7   Measurements    463 non-null    object\n",
      "dtypes: object(8)\n",
      "memory usage: 29.1+ KB\n"
     ]
    }
   ],
   "source": [
    "superhero_info_df.info()"
   ]
  },
  {
   "cell_type": "markdown",
   "id": "59b58371",
   "metadata": {},
   "source": [
    "### Superhero Powers"
   ]
  },
  {
   "cell_type": "code",
   "execution_count": 5,
   "id": "649b9833",
   "metadata": {},
   "outputs": [],
   "source": [
    "superhero_powers_df = pd.read_csv(\"Data/superhero_powers.csv\")"
   ]
  },
  {
   "cell_type": "code",
   "execution_count": 6,
   "id": "83460299",
   "metadata": {},
   "outputs": [
    {
     "data": {
      "text/html": [
       "<div>\n",
       "<style scoped>\n",
       "    .dataframe tbody tr th:only-of-type {\n",
       "        vertical-align: middle;\n",
       "    }\n",
       "\n",
       "    .dataframe tbody tr th {\n",
       "        vertical-align: top;\n",
       "    }\n",
       "\n",
       "    .dataframe thead th {\n",
       "        text-align: right;\n",
       "    }\n",
       "</style>\n",
       "<table border=\"1\" class=\"dataframe\">\n",
       "  <thead>\n",
       "    <tr style=\"text-align: right;\">\n",
       "      <th></th>\n",
       "      <th>hero_names</th>\n",
       "      <th>Powers</th>\n",
       "    </tr>\n",
       "  </thead>\n",
       "  <tbody>\n",
       "    <tr>\n",
       "      <th>0</th>\n",
       "      <td>3-D Man</td>\n",
       "      <td>Agility,Super Strength,Stamina,Super Speed</td>\n",
       "    </tr>\n",
       "    <tr>\n",
       "      <th>1</th>\n",
       "      <td>A-Bomb</td>\n",
       "      <td>Accelerated Healing,Durability,Longevity,Super...</td>\n",
       "    </tr>\n",
       "    <tr>\n",
       "      <th>2</th>\n",
       "      <td>Abe Sapien</td>\n",
       "      <td>Agility,Accelerated Healing,Cold Resistance,Du...</td>\n",
       "    </tr>\n",
       "  </tbody>\n",
       "</table>\n",
       "</div>"
      ],
      "text/plain": [
       "   hero_names                                             Powers\n",
       "0     3-D Man         Agility,Super Strength,Stamina,Super Speed\n",
       "1      A-Bomb  Accelerated Healing,Durability,Longevity,Super...\n",
       "2  Abe Sapien  Agility,Accelerated Healing,Cold Resistance,Du..."
      ]
     },
     "execution_count": 6,
     "metadata": {},
     "output_type": "execute_result"
    }
   ],
   "source": [
    "superhero_powers_df.head(3)"
   ]
  },
  {
   "cell_type": "code",
   "execution_count": 7,
   "id": "1d71a665",
   "metadata": {},
   "outputs": [
    {
     "name": "stdout",
     "output_type": "stream",
     "text": [
      "<class 'pandas.core.frame.DataFrame'>\n",
      "RangeIndex: 667 entries, 0 to 666\n",
      "Data columns (total 2 columns):\n",
      " #   Column      Non-Null Count  Dtype \n",
      "---  ------      --------------  ----- \n",
      " 0   hero_names  667 non-null    object\n",
      " 1   Powers      667 non-null    object\n",
      "dtypes: object(2)\n",
      "memory usage: 10.5+ KB\n"
     ]
    }
   ],
   "source": [
    "superhero_powers_df.info()"
   ]
  },
  {
   "cell_type": "markdown",
   "id": "29dfcd23",
   "metadata": {},
   "source": [
    "## Separate Hero Name"
   ]
  },
  {
   "cell_type": "code",
   "execution_count": 8,
   "id": "72c1efd5",
   "metadata": {},
   "outputs": [
    {
     "data": {
      "text/plain": [
       "0            A-Bomb|Marvel Comics\n",
       "1    Abe Sapien|Dark Horse Comics\n",
       "Name: Hero|Publisher, dtype: object"
      ]
     },
     "execution_count": 8,
     "metadata": {},
     "output_type": "execute_result"
    }
   ],
   "source": [
    "superhero_info_df['Hero|Publisher'].head(2)"
   ]
  },
  {
   "cell_type": "code",
   "execution_count": 9,
   "id": "94723932",
   "metadata": {},
   "outputs": [
    {
     "data": {
      "text/html": [
       "<div>\n",
       "<style scoped>\n",
       "    .dataframe tbody tr th:only-of-type {\n",
       "        vertical-align: middle;\n",
       "    }\n",
       "\n",
       "    .dataframe tbody tr th {\n",
       "        vertical-align: top;\n",
       "    }\n",
       "\n",
       "    .dataframe thead th {\n",
       "        text-align: right;\n",
       "    }\n",
       "</style>\n",
       "<table border=\"1\" class=\"dataframe\">\n",
       "  <thead>\n",
       "    <tr style=\"text-align: right;\">\n",
       "      <th></th>\n",
       "      <th>Gender</th>\n",
       "      <th>Race</th>\n",
       "      <th>Alignment</th>\n",
       "      <th>Hair color</th>\n",
       "      <th>Eye color</th>\n",
       "      <th>Skin color</th>\n",
       "      <th>Measurements</th>\n",
       "      <th>Hero Name</th>\n",
       "      <th>Publisher</th>\n",
       "    </tr>\n",
       "  </thead>\n",
       "  <tbody>\n",
       "    <tr>\n",
       "      <th>0</th>\n",
       "      <td>Male</td>\n",
       "      <td>Human</td>\n",
       "      <td>good</td>\n",
       "      <td>No Hair</td>\n",
       "      <td>yellow</td>\n",
       "      <td>Unknown</td>\n",
       "      <td>{'Height': '203.0 cm', 'Weight': '441.0 kg'}</td>\n",
       "      <td>A-Bomb</td>\n",
       "      <td>Marvel Comics</td>\n",
       "    </tr>\n",
       "    <tr>\n",
       "      <th>1</th>\n",
       "      <td>Male</td>\n",
       "      <td>Icthyo Sapien</td>\n",
       "      <td>good</td>\n",
       "      <td>No Hair</td>\n",
       "      <td>blue</td>\n",
       "      <td>blue</td>\n",
       "      <td>{'Height': '191.0 cm', 'Weight': '65.0 kg'}</td>\n",
       "      <td>Abe Sapien</td>\n",
       "      <td>Dark Horse Comics</td>\n",
       "    </tr>\n",
       "    <tr>\n",
       "      <th>2</th>\n",
       "      <td>Male</td>\n",
       "      <td>Ungaran</td>\n",
       "      <td>good</td>\n",
       "      <td>No Hair</td>\n",
       "      <td>blue</td>\n",
       "      <td>red</td>\n",
       "      <td>{'Height': '185.0 cm', 'Weight': '90.0 kg'}</td>\n",
       "      <td>Abin Sur</td>\n",
       "      <td>DC Comics</td>\n",
       "    </tr>\n",
       "  </tbody>\n",
       "</table>\n",
       "</div>"
      ],
      "text/plain": [
       "  Gender           Race Alignment Hair color Eye color Skin color  \\\n",
       "0   Male          Human      good    No Hair    yellow    Unknown   \n",
       "1   Male  Icthyo Sapien      good    No Hair      blue       blue   \n",
       "2   Male        Ungaran      good    No Hair      blue        red   \n",
       "\n",
       "                                   Measurements   Hero Name          Publisher  \n",
       "0  {'Height': '203.0 cm', 'Weight': '441.0 kg'}      A-Bomb      Marvel Comics  \n",
       "1   {'Height': '191.0 cm', 'Weight': '65.0 kg'}  Abe Sapien  Dark Horse Comics  \n",
       "2   {'Height': '185.0 cm', 'Weight': '90.0 kg'}    Abin Sur          DC Comics  "
      ]
     },
     "execution_count": 9,
     "metadata": {},
     "output_type": "execute_result"
    }
   ],
   "source": [
    "## adding expand=True\n",
    "superhero_info_df[['Hero Name', 'Publisher']] = superhero_info_df\\\n",
    "    ['Hero|Publisher'].str.split('|',expand=True)\n",
    "superhero_info_df = superhero_info_df.drop(columns = ['Hero|Publisher'])\n",
    "superhero_info_df.head(3)"
   ]
  },
  {
   "cell_type": "markdown",
   "id": "776a70f5",
   "metadata": {},
   "source": [
    "## Separate Measurements"
   ]
  },
  {
   "cell_type": "code",
   "execution_count": 10,
   "id": "f1f4d14b",
   "metadata": {},
   "outputs": [
    {
     "name": "stdout",
     "output_type": "stream",
     "text": [
      "<class 'str'>\n"
     ]
    },
    {
     "data": {
      "text/plain": [
       "\"{'Height': '203.0 cm', 'Weight': '441.0 kg'}\""
      ]
     },
     "execution_count": 10,
     "metadata": {},
     "output_type": "execute_result"
    }
   ],
   "source": [
    "print(type(superhero_info_df.loc[0, 'Measurements']))\n",
    "superhero_info_df.loc[0, 'Measurements']"
   ]
  },
  {
   "cell_type": "code",
   "execution_count": 11,
   "id": "4d0c4e77",
   "metadata": {},
   "outputs": [
    {
     "data": {
      "text/html": [
       "<div>\n",
       "<style scoped>\n",
       "    .dataframe tbody tr th:only-of-type {\n",
       "        vertical-align: middle;\n",
       "    }\n",
       "\n",
       "    .dataframe tbody tr th {\n",
       "        vertical-align: top;\n",
       "    }\n",
       "\n",
       "    .dataframe thead th {\n",
       "        text-align: right;\n",
       "    }\n",
       "</style>\n",
       "<table border=\"1\" class=\"dataframe\">\n",
       "  <thead>\n",
       "    <tr style=\"text-align: right;\">\n",
       "      <th></th>\n",
       "      <th>Gender</th>\n",
       "      <th>Race</th>\n",
       "      <th>Alignment</th>\n",
       "      <th>Hair color</th>\n",
       "      <th>Eye color</th>\n",
       "      <th>Skin color</th>\n",
       "      <th>Measurements</th>\n",
       "      <th>Hero Name</th>\n",
       "      <th>Publisher</th>\n",
       "    </tr>\n",
       "  </thead>\n",
       "  <tbody>\n",
       "    <tr>\n",
       "      <th>0</th>\n",
       "      <td>Male</td>\n",
       "      <td>Human</td>\n",
       "      <td>good</td>\n",
       "      <td>No Hair</td>\n",
       "      <td>yellow</td>\n",
       "      <td>Unknown</td>\n",
       "      <td>{'Height': '203.0 cm', 'Weight': '441.0 kg'}</td>\n",
       "      <td>A-Bomb</td>\n",
       "      <td>Marvel Comics</td>\n",
       "    </tr>\n",
       "    <tr>\n",
       "      <th>1</th>\n",
       "      <td>Male</td>\n",
       "      <td>Icthyo Sapien</td>\n",
       "      <td>good</td>\n",
       "      <td>No Hair</td>\n",
       "      <td>blue</td>\n",
       "      <td>blue</td>\n",
       "      <td>{'Height': '191.0 cm', 'Weight': '65.0 kg'}</td>\n",
       "      <td>Abe Sapien</td>\n",
       "      <td>Dark Horse Comics</td>\n",
       "    </tr>\n",
       "    <tr>\n",
       "      <th>2</th>\n",
       "      <td>Male</td>\n",
       "      <td>Ungaran</td>\n",
       "      <td>good</td>\n",
       "      <td>No Hair</td>\n",
       "      <td>blue</td>\n",
       "      <td>red</td>\n",
       "      <td>{'Height': '185.0 cm', 'Weight': '90.0 kg'}</td>\n",
       "      <td>Abin Sur</td>\n",
       "      <td>DC Comics</td>\n",
       "    </tr>\n",
       "  </tbody>\n",
       "</table>\n",
       "</div>"
      ],
      "text/plain": [
       "  Gender           Race Alignment Hair color Eye color Skin color  \\\n",
       "0   Male          Human      good    No Hair    yellow    Unknown   \n",
       "1   Male  Icthyo Sapien      good    No Hair      blue       blue   \n",
       "2   Male        Ungaran      good    No Hair      blue        red   \n",
       "\n",
       "                                   Measurements   Hero Name          Publisher  \n",
       "0  {'Height': '203.0 cm', 'Weight': '441.0 kg'}      A-Bomb      Marvel Comics  \n",
       "1   {'Height': '191.0 cm', 'Weight': '65.0 kg'}  Abe Sapien  Dark Horse Comics  \n",
       "2   {'Height': '185.0 cm', 'Weight': '90.0 kg'}    Abin Sur          DC Comics  "
      ]
     },
     "execution_count": 11,
     "metadata": {},
     "output_type": "execute_result"
    }
   ],
   "source": [
    "superhero_info_df['Measurements'] = superhero_info_df['Measurements'].str\\\n",
    "            .replace(\"'\", '\"')\n",
    "superhero_info_df['Measurements'] = superhero_info_df['Measurements']\\\n",
    "            .apply(json.loads)\n",
    "superhero_info_df.head(3)"
   ]
  },
  {
   "cell_type": "code",
   "execution_count": 12,
   "id": "ed8ece28",
   "metadata": {},
   "outputs": [
    {
     "name": "stdout",
     "output_type": "stream",
     "text": [
      "<class 'dict'>\n"
     ]
    },
    {
     "data": {
      "text/plain": [
       "{'Height': '203.0 cm', 'Weight': '441.0 kg'}"
      ]
     },
     "execution_count": 12,
     "metadata": {},
     "output_type": "execute_result"
    }
   ],
   "source": [
    "print(type(superhero_info_df.loc[0, 'Measurements']))\n",
    "superhero_info_df.loc[0, 'Measurements']"
   ]
  },
  {
   "cell_type": "code",
   "execution_count": 13,
   "id": "daa2962b",
   "metadata": {},
   "outputs": [
    {
     "data": {
      "text/html": [
       "<div>\n",
       "<style scoped>\n",
       "    .dataframe tbody tr th:only-of-type {\n",
       "        vertical-align: middle;\n",
       "    }\n",
       "\n",
       "    .dataframe tbody tr th {\n",
       "        vertical-align: top;\n",
       "    }\n",
       "\n",
       "    .dataframe thead th {\n",
       "        text-align: right;\n",
       "    }\n",
       "</style>\n",
       "<table border=\"1\" class=\"dataframe\">\n",
       "  <thead>\n",
       "    <tr style=\"text-align: right;\">\n",
       "      <th></th>\n",
       "      <th>Height</th>\n",
       "      <th>Weight</th>\n",
       "    </tr>\n",
       "  </thead>\n",
       "  <tbody>\n",
       "    <tr>\n",
       "      <th>0</th>\n",
       "      <td>203.0 cm</td>\n",
       "      <td>441.0 kg</td>\n",
       "    </tr>\n",
       "    <tr>\n",
       "      <th>1</th>\n",
       "      <td>191.0 cm</td>\n",
       "      <td>65.0 kg</td>\n",
       "    </tr>\n",
       "    <tr>\n",
       "      <th>2</th>\n",
       "      <td>185.0 cm</td>\n",
       "      <td>90.0 kg</td>\n",
       "    </tr>\n",
       "    <tr>\n",
       "      <th>3</th>\n",
       "      <td>203.0 cm</td>\n",
       "      <td>441.0 kg</td>\n",
       "    </tr>\n",
       "    <tr>\n",
       "      <th>4</th>\n",
       "      <td>193.0 cm</td>\n",
       "      <td>122.0 kg</td>\n",
       "    </tr>\n",
       "    <tr>\n",
       "      <th>...</th>\n",
       "      <td>...</td>\n",
       "      <td>...</td>\n",
       "    </tr>\n",
       "    <tr>\n",
       "      <th>458</th>\n",
       "      <td>183.0 cm</td>\n",
       "      <td>83.0 kg</td>\n",
       "    </tr>\n",
       "    <tr>\n",
       "      <th>459</th>\n",
       "      <td>165.0 cm</td>\n",
       "      <td>52.0 kg</td>\n",
       "    </tr>\n",
       "    <tr>\n",
       "      <th>460</th>\n",
       "      <td>66.0 cm</td>\n",
       "      <td>17.0 kg</td>\n",
       "    </tr>\n",
       "    <tr>\n",
       "      <th>461</th>\n",
       "      <td>170.0 cm</td>\n",
       "      <td>57.0 kg</td>\n",
       "    </tr>\n",
       "    <tr>\n",
       "      <th>462</th>\n",
       "      <td>185.0 cm</td>\n",
       "      <td>81.0 kg</td>\n",
       "    </tr>\n",
       "  </tbody>\n",
       "</table>\n",
       "<p>463 rows × 2 columns</p>\n",
       "</div>"
      ],
      "text/plain": [
       "       Height    Weight\n",
       "0    203.0 cm  441.0 kg\n",
       "1    191.0 cm   65.0 kg\n",
       "2    185.0 cm   90.0 kg\n",
       "3    203.0 cm  441.0 kg\n",
       "4    193.0 cm  122.0 kg\n",
       "..        ...       ...\n",
       "458  183.0 cm   83.0 kg\n",
       "459  165.0 cm   52.0 kg\n",
       "460   66.0 cm   17.0 kg\n",
       "461  170.0 cm   57.0 kg\n",
       "462  185.0 cm   81.0 kg\n",
       "\n",
       "[463 rows x 2 columns]"
      ]
     },
     "execution_count": 13,
     "metadata": {},
     "output_type": "execute_result"
    }
   ],
   "source": [
    "measurements = superhero_info_df['Measurements'].apply(pd.Series)\n",
    "measurements"
   ]
  },
  {
   "cell_type": "code",
   "execution_count": 14,
   "id": "9c97a1ad",
   "metadata": {
    "scrolled": true
   },
   "outputs": [],
   "source": [
    "superhero_info_df = pd.concat((superhero_info_df, measurements), axis = 1)\n",
    "superhero_info_df = superhero_info_df.drop(columns = ['Measurements'])"
   ]
  },
  {
   "cell_type": "code",
   "execution_count": 15,
   "id": "95b26796",
   "metadata": {},
   "outputs": [],
   "source": [
    "to_replace = [' cm',' kg']\n",
    "\n",
    "for char in to_replace:\n",
    "    superhero_info_df['Height'] = superhero_info_df['Height']\\\n",
    "                    .str.replace(char, '', regex=False)\n",
    "    superhero_info_df['Weight'] = superhero_info_df['Weight']\\\n",
    "                    .str.replace(char, '', regex=False)\n",
    "\n",
    "columns = ['Height', 'Weight']\n",
    "for col in columns:\n",
    "    superhero_info_df[col] = pd.to_numeric(superhero_info_df[col])"
   ]
  },
  {
   "cell_type": "code",
   "execution_count": 16,
   "id": "7bd0dbb8",
   "metadata": {
    "scrolled": true
   },
   "outputs": [
    {
     "data": {
      "text/html": [
       "<div>\n",
       "<style scoped>\n",
       "    .dataframe tbody tr th:only-of-type {\n",
       "        vertical-align: middle;\n",
       "    }\n",
       "\n",
       "    .dataframe tbody tr th {\n",
       "        vertical-align: top;\n",
       "    }\n",
       "\n",
       "    .dataframe thead th {\n",
       "        text-align: right;\n",
       "    }\n",
       "</style>\n",
       "<table border=\"1\" class=\"dataframe\">\n",
       "  <thead>\n",
       "    <tr style=\"text-align: right;\">\n",
       "      <th></th>\n",
       "      <th>Hero Name</th>\n",
       "      <th>Publisher</th>\n",
       "      <th>Gender</th>\n",
       "      <th>Eye color</th>\n",
       "      <th>Race</th>\n",
       "      <th>Hair color</th>\n",
       "      <th>Height</th>\n",
       "      <th>Skin color</th>\n",
       "      <th>Alignment</th>\n",
       "      <th>Weight</th>\n",
       "    </tr>\n",
       "  </thead>\n",
       "  <tbody>\n",
       "    <tr>\n",
       "      <th>0</th>\n",
       "      <td>A-Bomb</td>\n",
       "      <td>Marvel Comics</td>\n",
       "      <td>Male</td>\n",
       "      <td>yellow</td>\n",
       "      <td>Human</td>\n",
       "      <td>No Hair</td>\n",
       "      <td>203.0</td>\n",
       "      <td>Unknown</td>\n",
       "      <td>good</td>\n",
       "      <td>441.0</td>\n",
       "    </tr>\n",
       "    <tr>\n",
       "      <th>1</th>\n",
       "      <td>Abe Sapien</td>\n",
       "      <td>Dark Horse Comics</td>\n",
       "      <td>Male</td>\n",
       "      <td>blue</td>\n",
       "      <td>Icthyo Sapien</td>\n",
       "      <td>No Hair</td>\n",
       "      <td>191.0</td>\n",
       "      <td>blue</td>\n",
       "      <td>good</td>\n",
       "      <td>65.0</td>\n",
       "    </tr>\n",
       "    <tr>\n",
       "      <th>2</th>\n",
       "      <td>Abin Sur</td>\n",
       "      <td>DC Comics</td>\n",
       "      <td>Male</td>\n",
       "      <td>blue</td>\n",
       "      <td>Ungaran</td>\n",
       "      <td>No Hair</td>\n",
       "      <td>185.0</td>\n",
       "      <td>red</td>\n",
       "      <td>good</td>\n",
       "      <td>90.0</td>\n",
       "    </tr>\n",
       "  </tbody>\n",
       "</table>\n",
       "</div>"
      ],
      "text/plain": [
       "    Hero Name          Publisher Gender Eye color           Race Hair color  \\\n",
       "0      A-Bomb      Marvel Comics   Male    yellow          Human    No Hair   \n",
       "1  Abe Sapien  Dark Horse Comics   Male      blue  Icthyo Sapien    No Hair   \n",
       "2    Abin Sur          DC Comics   Male      blue        Ungaran    No Hair   \n",
       "\n",
       "   Height Skin color Alignment  Weight  \n",
       "0   203.0    Unknown      good   441.0  \n",
       "1   191.0       blue      good    65.0  \n",
       "2   185.0        red      good    90.0  "
      ]
     },
     "execution_count": 16,
     "metadata": {},
     "output_type": "execute_result"
    }
   ],
   "source": [
    "superhero_info_df = superhero_info_df.reindex(columns=[\\\n",
    "            'Hero Name', 'Publisher', 'Gender', 'Eye color',\\\n",
    "            'Race', 'Hair color', 'Height', 'Skin color',\\\n",
    "            'Alignment', 'Weight'])\n",
    "superhero_info_df.head(3)"
   ]
  },
  {
   "cell_type": "markdown",
   "id": "95b6fd80",
   "metadata": {},
   "source": [
    "## Combining Dataframes"
   ]
  },
  {
   "cell_type": "code",
   "execution_count": 17,
   "id": "1f5ece7f",
   "metadata": {},
   "outputs": [
    {
     "name": "stdout",
     "output_type": "stream",
     "text": [
      "<class 'pandas.core.frame.DataFrame'>\n",
      "Int64Index: 455 entries, 1 to 666\n",
      "Data columns (total 2 columns):\n",
      " #   Column      Non-Null Count  Dtype \n",
      "---  ------      --------------  ----- \n",
      " 0   hero_names  455 non-null    object\n",
      " 1   Powers      455 non-null    object\n",
      "dtypes: object(2)\n",
      "memory usage: 10.7+ KB\n"
     ]
    }
   ],
   "source": [
    "hero_powers_filter = superhero_powers_df['hero_names']\\\n",
    "            .isin(superhero_info_df['Hero Name'])\n",
    "\n",
    "superhero_powers_df = superhero_powers_df[hero_powers_filter]\n",
    "superhero_powers_df.info()"
   ]
  },
  {
   "cell_type": "code",
   "execution_count": 18,
   "id": "280c027a",
   "metadata": {},
   "outputs": [],
   "source": [
    "superhero_powers_df = superhero_powers_df.rename(columns =\\\n",
    "                                    {'hero_names':'Hero Name'})"
   ]
  },
  {
   "cell_type": "code",
   "execution_count": 19,
   "id": "1cce26a0",
   "metadata": {},
   "outputs": [
    {
     "data": {
      "text/html": [
       "<div>\n",
       "<style scoped>\n",
       "    .dataframe tbody tr th:only-of-type {\n",
       "        vertical-align: middle;\n",
       "    }\n",
       "\n",
       "    .dataframe tbody tr th {\n",
       "        vertical-align: top;\n",
       "    }\n",
       "\n",
       "    .dataframe thead th {\n",
       "        text-align: right;\n",
       "    }\n",
       "</style>\n",
       "<table border=\"1\" class=\"dataframe\">\n",
       "  <thead>\n",
       "    <tr style=\"text-align: right;\">\n",
       "      <th></th>\n",
       "      <th>Hero Name</th>\n",
       "      <th>Publisher</th>\n",
       "      <th>Gender</th>\n",
       "      <th>Eye color</th>\n",
       "      <th>Race</th>\n",
       "      <th>Hair color</th>\n",
       "      <th>Height</th>\n",
       "      <th>Skin color</th>\n",
       "      <th>Alignment</th>\n",
       "      <th>Weight</th>\n",
       "      <th>Powers</th>\n",
       "    </tr>\n",
       "  </thead>\n",
       "  <tbody>\n",
       "    <tr>\n",
       "      <th>0</th>\n",
       "      <td>A-Bomb</td>\n",
       "      <td>Marvel Comics</td>\n",
       "      <td>Male</td>\n",
       "      <td>yellow</td>\n",
       "      <td>Human</td>\n",
       "      <td>No Hair</td>\n",
       "      <td>203.0</td>\n",
       "      <td>Unknown</td>\n",
       "      <td>good</td>\n",
       "      <td>441.0</td>\n",
       "      <td>Accelerated Healing,Durability,Longevity,Super...</td>\n",
       "    </tr>\n",
       "    <tr>\n",
       "      <th>1</th>\n",
       "      <td>Abe Sapien</td>\n",
       "      <td>Dark Horse Comics</td>\n",
       "      <td>Male</td>\n",
       "      <td>blue</td>\n",
       "      <td>Icthyo Sapien</td>\n",
       "      <td>No Hair</td>\n",
       "      <td>191.0</td>\n",
       "      <td>blue</td>\n",
       "      <td>good</td>\n",
       "      <td>65.0</td>\n",
       "      <td>Agility,Accelerated Healing,Cold Resistance,Du...</td>\n",
       "    </tr>\n",
       "    <tr>\n",
       "      <th>2</th>\n",
       "      <td>Abin Sur</td>\n",
       "      <td>DC Comics</td>\n",
       "      <td>Male</td>\n",
       "      <td>blue</td>\n",
       "      <td>Ungaran</td>\n",
       "      <td>No Hair</td>\n",
       "      <td>185.0</td>\n",
       "      <td>red</td>\n",
       "      <td>good</td>\n",
       "      <td>90.0</td>\n",
       "      <td>Lantern Power Ring</td>\n",
       "    </tr>\n",
       "  </tbody>\n",
       "</table>\n",
       "</div>"
      ],
      "text/plain": [
       "    Hero Name          Publisher Gender Eye color           Race Hair color  \\\n",
       "0      A-Bomb      Marvel Comics   Male    yellow          Human    No Hair   \n",
       "1  Abe Sapien  Dark Horse Comics   Male      blue  Icthyo Sapien    No Hair   \n",
       "2    Abin Sur          DC Comics   Male      blue        Ungaran    No Hair   \n",
       "\n",
       "   Height Skin color Alignment  Weight  \\\n",
       "0   203.0    Unknown      good   441.0   \n",
       "1   191.0       blue      good    65.0   \n",
       "2   185.0        red      good    90.0   \n",
       "\n",
       "                                              Powers  \n",
       "0  Accelerated Healing,Durability,Longevity,Super...  \n",
       "1  Agility,Accelerated Healing,Cold Resistance,Du...  \n",
       "2                                 Lantern Power Ring  "
      ]
     },
     "execution_count": 19,
     "metadata": {},
     "output_type": "execute_result"
    }
   ],
   "source": [
    "merged_superhero_df = pd.merge(superhero_info_df, superhero_powers_df,\\\n",
    "                          on='Hero Name', how='inner')\n",
    "merged_superhero_df.head(3)"
   ]
  },
  {
   "cell_type": "markdown",
   "id": "ca5d472e",
   "metadata": {},
   "source": [
    "## OHE the Powers Column"
   ]
  },
  {
   "cell_type": "code",
   "execution_count": 20,
   "id": "e66fac1c",
   "metadata": {
    "scrolled": true
   },
   "outputs": [
    {
     "name": "stdout",
     "output_type": "stream",
     "text": [
      "<class 'str'>\n"
     ]
    },
    {
     "data": {
      "text/plain": [
       "'Accelerated Healing,Durability,Longevity,Super Strength,Stamina,Camouflage,Self-Sustenance'"
      ]
     },
     "execution_count": 20,
     "metadata": {},
     "output_type": "execute_result"
    }
   ],
   "source": [
    "print(type(merged_superhero_df.loc[0,'Powers']))\n",
    "merged_superhero_df.loc[0,'Powers']"
   ]
  },
  {
   "cell_type": "code",
   "execution_count": 21,
   "id": "9d3ad7b8",
   "metadata": {},
   "outputs": [],
   "source": [
    "split_powers_df = merged_superhero_df['Powers'].str.split(\",\")"
   ]
  },
  {
   "cell_type": "code",
   "execution_count": 22,
   "id": "f965fcd6",
   "metadata": {
    "scrolled": false
   },
   "outputs": [
    {
     "data": {
      "text/plain": [
       "0    Accelerated Healing\n",
       "1             Durability\n",
       "2              Longevity\n",
       "Name: Powers, dtype: object"
      ]
     },
     "execution_count": 22,
     "metadata": {},
     "output_type": "execute_result"
    }
   ],
   "source": [
    "exploded = split_powers_df.explode('Powers')\n",
    "exploded.head(3)"
   ]
  },
  {
   "cell_type": "code",
   "execution_count": 23,
   "id": "155030c9",
   "metadata": {},
   "outputs": [
    {
     "data": {
      "text/plain": [
       "array(['Accelerated Healing', 'Durability', 'Longevity', 'Super Strength',\n",
       "       'Stamina', 'Camouflage', 'Self-Sustenance', 'Agility',\n",
       "       'Cold Resistance', 'Underwater breathing', 'Marksmanship',\n",
       "       'Weapons Master', 'Intelligence', 'Telepathy', 'Immortality',\n",
       "       'Reflexes', 'Enhanced Sight', 'Sub-Mariner', 'Lantern Power Ring',\n",
       "       'Super Speed', 'Invulnerability', 'Animation', 'Super Breath',\n",
       "       'Energy Absorption', 'Elemental Transmogrification',\n",
       "       'Fire Resistance', 'Natural Armor', 'Molecular Manipulation',\n",
       "       'Heat Resistance', 'Matter Absorption', 'Stealth', 'Flight',\n",
       "       'Power Suit', 'Energy Blasts', 'Energy Beams', 'Power Cosmic',\n",
       "       'Heat Generation', 'Danger Sense', 'Teleportation', 'Phasing',\n",
       "       'Force Fields', 'Hypnokinesis', 'Energy Manipulation',\n",
       "       'Invisibility', 'Enhanced Senses', 'Jump', 'Substance Secretion',\n",
       "       'Natural Weapons', 'Wallcrawling', 'Vision - Thermal',\n",
       "       'Power Augmentation', 'Cryokinesis', 'Duplication',\n",
       "       'Size Changing', 'Weapon-based Powers', 'Shapeshifting',\n",
       "       'Fire Control', 'Enhanced Memory', 'Energy Constructs',\n",
       "       'Power Absorption', 'Enhanced Hearing', 'Time Travel',\n",
       "       'Enhanced Smell', 'Water Control', 'Vision - Telescopic',\n",
       "       'Magnetism', 'Vision - Microscopic', 'Vision - Night',\n",
       "       'Vision - Heat', 'Vision - X-Ray', 'Magic', 'Psionic Powers',\n",
       "       'Gliding', 'Toxin and Disease Resistance', 'Animal Attributes',\n",
       "       'Animal Oriented Powers', 'Regeneration',\n",
       "       'Toxin and Disease Control', 'Empathy', 'Animal Control',\n",
       "       'Elasticity', 'Web Creation', 'Symbiote Costume', 'Telekinesis',\n",
       "       'Levitation', 'Biokinesis', 'Sonar', 'Enhanced Touch',\n",
       "       'Seismic Power', 'Energy Armor', 'Radiation Immunity',\n",
       "       'Density Control', 'Light Control', 'Illumination',\n",
       "       'Molecular Combustion', 'Dimensional Travel', 'Audio Control',\n",
       "       'Sonic Scream', 'Peak Human Condition', 'Vision - Infrared',\n",
       "       'Dexterity', 'Energy Resistance', 'Vision - Cryo', 'Clairvoyance',\n",
       "       'Probability Manipulation', 'Electrokinesis',\n",
       "       'Darkforce Manipulation', 'Illusions', 'Death Touch',\n",
       "       'Gravity Control', 'Precognition', 'Time Manipulation',\n",
       "       'Omnilingualism', 'Astral Projection', 'Technopath/Cyberpath',\n",
       "       'Mind Control', 'Mind Blast', 'Cloaking', 'Telepathy Resistance',\n",
       "       'Mind Control Resistance', 'Radiation Control',\n",
       "       'Radiation Absorption', 'Magic Resistance',\n",
       "       'Dimensional Awareness', 'Intangibility', 'Element Control',\n",
       "       'Wind Control', 'Echolocation', 'Radar Sense', 'Resurrection',\n",
       "       'The Force', 'Possession', 'Astral Travel', 'Summoning', 'Banish',\n",
       "       'Adaptation', 'Electrical Transport', 'Speed Force', 'Omnipotent',\n",
       "       'Grim Reaping', 'Reality Warping', 'Portal Creation',\n",
       "       'Vitakinesis', 'Projection', 'Insanity', 'Plant Control',\n",
       "       'Photographic Reflexes', 'Anti-Gravity', 'Power Nullifier',\n",
       "       'Hair Manipulation', 'Weather Control', 'Nova Force', 'Odin Force',\n",
       "       'Phoenix Force', 'Power Sense', 'Qwardian Power Ring', 'Melting',\n",
       "       'Changing Armor', 'Terrakinesis'], dtype=object)"
      ]
     },
     "execution_count": 23,
     "metadata": {},
     "output_type": "execute_result"
    }
   ],
   "source": [
    "## saving the unique values from the exploded column\n",
    "cols_to_make = exploded.dropna().unique()\n",
    "cols_to_make"
   ]
  },
  {
   "cell_type": "code",
   "execution_count": 24,
   "id": "0a891211",
   "metadata": {
    "scrolled": true
   },
   "outputs": [
    {
     "data": {
      "text/html": [
       "<div>\n",
       "<style scoped>\n",
       "    .dataframe tbody tr th:only-of-type {\n",
       "        vertical-align: middle;\n",
       "    }\n",
       "\n",
       "    .dataframe tbody tr th {\n",
       "        vertical-align: top;\n",
       "    }\n",
       "\n",
       "    .dataframe thead th {\n",
       "        text-align: right;\n",
       "    }\n",
       "</style>\n",
       "<table border=\"1\" class=\"dataframe\">\n",
       "  <thead>\n",
       "    <tr style=\"text-align: right;\">\n",
       "      <th></th>\n",
       "      <th>Hero Name</th>\n",
       "      <th>Publisher</th>\n",
       "      <th>Gender</th>\n",
       "      <th>Eye color</th>\n",
       "      <th>Race</th>\n",
       "      <th>Hair color</th>\n",
       "      <th>Height</th>\n",
       "      <th>Skin color</th>\n",
       "      <th>Alignment</th>\n",
       "      <th>Weight</th>\n",
       "      <th>...</th>\n",
       "      <th>Hair Manipulation</th>\n",
       "      <th>Weather Control</th>\n",
       "      <th>Nova Force</th>\n",
       "      <th>Odin Force</th>\n",
       "      <th>Phoenix Force</th>\n",
       "      <th>Power Sense</th>\n",
       "      <th>Qwardian Power Ring</th>\n",
       "      <th>Melting</th>\n",
       "      <th>Changing Armor</th>\n",
       "      <th>Terrakinesis</th>\n",
       "    </tr>\n",
       "  </thead>\n",
       "  <tbody>\n",
       "    <tr>\n",
       "      <th>0</th>\n",
       "      <td>A-Bomb</td>\n",
       "      <td>Marvel Comics</td>\n",
       "      <td>Male</td>\n",
       "      <td>yellow</td>\n",
       "      <td>Human</td>\n",
       "      <td>No Hair</td>\n",
       "      <td>203.0</td>\n",
       "      <td>Unknown</td>\n",
       "      <td>good</td>\n",
       "      <td>441.0</td>\n",
       "      <td>...</td>\n",
       "      <td>False</td>\n",
       "      <td>False</td>\n",
       "      <td>False</td>\n",
       "      <td>False</td>\n",
       "      <td>False</td>\n",
       "      <td>False</td>\n",
       "      <td>False</td>\n",
       "      <td>False</td>\n",
       "      <td>False</td>\n",
       "      <td>False</td>\n",
       "    </tr>\n",
       "    <tr>\n",
       "      <th>1</th>\n",
       "      <td>Abe Sapien</td>\n",
       "      <td>Dark Horse Comics</td>\n",
       "      <td>Male</td>\n",
       "      <td>blue</td>\n",
       "      <td>Icthyo Sapien</td>\n",
       "      <td>No Hair</td>\n",
       "      <td>191.0</td>\n",
       "      <td>blue</td>\n",
       "      <td>good</td>\n",
       "      <td>65.0</td>\n",
       "      <td>...</td>\n",
       "      <td>False</td>\n",
       "      <td>False</td>\n",
       "      <td>False</td>\n",
       "      <td>False</td>\n",
       "      <td>False</td>\n",
       "      <td>False</td>\n",
       "      <td>False</td>\n",
       "      <td>False</td>\n",
       "      <td>False</td>\n",
       "      <td>False</td>\n",
       "    </tr>\n",
       "    <tr>\n",
       "      <th>2</th>\n",
       "      <td>Abin Sur</td>\n",
       "      <td>DC Comics</td>\n",
       "      <td>Male</td>\n",
       "      <td>blue</td>\n",
       "      <td>Ungaran</td>\n",
       "      <td>No Hair</td>\n",
       "      <td>185.0</td>\n",
       "      <td>red</td>\n",
       "      <td>good</td>\n",
       "      <td>90.0</td>\n",
       "      <td>...</td>\n",
       "      <td>False</td>\n",
       "      <td>False</td>\n",
       "      <td>False</td>\n",
       "      <td>False</td>\n",
       "      <td>False</td>\n",
       "      <td>False</td>\n",
       "      <td>False</td>\n",
       "      <td>False</td>\n",
       "      <td>False</td>\n",
       "      <td>False</td>\n",
       "    </tr>\n",
       "    <tr>\n",
       "      <th>3</th>\n",
       "      <td>Abomination</td>\n",
       "      <td>Marvel Comics</td>\n",
       "      <td>Male</td>\n",
       "      <td>green</td>\n",
       "      <td>Human / Radiation</td>\n",
       "      <td>No Hair</td>\n",
       "      <td>203.0</td>\n",
       "      <td>Unknown</td>\n",
       "      <td>bad</td>\n",
       "      <td>441.0</td>\n",
       "      <td>...</td>\n",
       "      <td>False</td>\n",
       "      <td>False</td>\n",
       "      <td>False</td>\n",
       "      <td>False</td>\n",
       "      <td>False</td>\n",
       "      <td>False</td>\n",
       "      <td>False</td>\n",
       "      <td>False</td>\n",
       "      <td>False</td>\n",
       "      <td>False</td>\n",
       "    </tr>\n",
       "    <tr>\n",
       "      <th>4</th>\n",
       "      <td>Absorbing Man</td>\n",
       "      <td>Marvel Comics</td>\n",
       "      <td>Male</td>\n",
       "      <td>blue</td>\n",
       "      <td>Human</td>\n",
       "      <td>No Hair</td>\n",
       "      <td>193.0</td>\n",
       "      <td>Unknown</td>\n",
       "      <td>bad</td>\n",
       "      <td>122.0</td>\n",
       "      <td>...</td>\n",
       "      <td>False</td>\n",
       "      <td>False</td>\n",
       "      <td>False</td>\n",
       "      <td>False</td>\n",
       "      <td>False</td>\n",
       "      <td>False</td>\n",
       "      <td>False</td>\n",
       "      <td>False</td>\n",
       "      <td>False</td>\n",
       "      <td>False</td>\n",
       "    </tr>\n",
       "  </tbody>\n",
       "</table>\n",
       "<p>5 rows × 170 columns</p>\n",
       "</div>"
      ],
      "text/plain": [
       "       Hero Name          Publisher Gender Eye color               Race  \\\n",
       "0         A-Bomb      Marvel Comics   Male    yellow              Human   \n",
       "1     Abe Sapien  Dark Horse Comics   Male      blue      Icthyo Sapien   \n",
       "2       Abin Sur          DC Comics   Male      blue            Ungaran   \n",
       "3    Abomination      Marvel Comics   Male     green  Human / Radiation   \n",
       "4  Absorbing Man      Marvel Comics   Male      blue              Human   \n",
       "\n",
       "  Hair color  Height Skin color Alignment  Weight  ... Hair Manipulation  \\\n",
       "0    No Hair   203.0    Unknown      good   441.0  ...             False   \n",
       "1    No Hair   191.0       blue      good    65.0  ...             False   \n",
       "2    No Hair   185.0        red      good    90.0  ...             False   \n",
       "3    No Hair   203.0    Unknown       bad   441.0  ...             False   \n",
       "4    No Hair   193.0    Unknown       bad   122.0  ...             False   \n",
       "\n",
       "   Weather Control  Nova Force  Odin Force  Phoenix Force  Power Sense  \\\n",
       "0            False       False       False          False        False   \n",
       "1            False       False       False          False        False   \n",
       "2            False       False       False          False        False   \n",
       "3            False       False       False          False        False   \n",
       "4            False       False       False          False        False   \n",
       "\n",
       "   Qwardian Power Ring  Melting  Changing Armor  Terrakinesis  \n",
       "0                False    False           False         False  \n",
       "1                False    False           False         False  \n",
       "2                False    False           False         False  \n",
       "3                False    False           False         False  \n",
       "4                False    False           False         False  \n",
       "\n",
       "[5 rows x 170 columns]"
      ]
     },
     "execution_count": 24,
     "metadata": {},
     "output_type": "execute_result"
    }
   ],
   "source": [
    "for col in cols_to_make:\n",
    "    merged_superhero_df[col] = merged_superhero_df['Powers'].str.contains(col)\n",
    "merged_superhero_df.head()"
   ]
  },
  {
   "cell_type": "markdown",
   "id": "f0bf5d21",
   "metadata": {},
   "source": [
    "## Explore the Merged Dataframe"
   ]
  },
  {
   "cell_type": "code",
   "execution_count": 47,
   "id": "c554474d",
   "metadata": {
    "scrolled": false
   },
   "outputs": [
    {
     "data": {
      "text/plain": [
       "Super Speed\n",
       "True     129.4\n",
       "False    101.8\n",
       "Name: Weight, dtype: float64"
      ]
     },
     "execution_count": 47,
     "metadata": {},
     "output_type": "execute_result"
    }
   ],
   "source": [
    "speed_weight = merged_superhero_df.groupby('Super Speed')['Weight'].mean()\\\n",
    "                    .sort_values(ascending = False).round(1)\n",
    "speed_weight"
   ]
  },
  {
   "cell_type": "code",
   "execution_count": 48,
   "id": "aeff6646",
   "metadata": {},
   "outputs": [
    {
     "data": {
      "image/png": "[encoded data removed]",
      "text/plain": [
       "<Figure size 640x480 with 1 Axes>"
      ]
     },
     "metadata": {},
     "output_type": "display_data"
    }
   ],
   "source": [
    "speed_weight.plot(kind ='bar');"
   ]
  },
  {
   "cell_type": "code",
   "execution_count": 45,
   "id": "4f4636b4",
   "metadata": {},
   "outputs": [
    {
     "data": {
      "text/plain": [
       "Publisher\n",
       "Image Comics         211.0\n",
       "Marvel Comics        191.5\n",
       "DC Comics            181.9\n",
       "Star Trek            181.5\n",
       "Team Epic TV         180.8\n",
       "Unknown              178.0\n",
       "Dark Horse Comics    176.9\n",
       "Shueisha             171.5\n",
       "George Lucas         159.6\n",
       "Name: Height, dtype: float64"
      ]
     },
     "execution_count": 45,
     "metadata": {},
     "output_type": "execute_result"
    }
   ],
   "source": [
    "publish_height = merged_superhero_df.groupby('Publisher')['Height'].mean()\\\n",
    "                    .sort_values(ascending = False).round(1)\n",
    "publish_height"
   ]
  },
  {
   "cell_type": "code",
   "execution_count": 46,
   "id": "b580fbdb",
   "metadata": {},
   "outputs": [
    {
     "data": {
      "image/png": "[encoded data removed]",
      "text/plain": [
       "<Figure size 640x480 with 1 Axes>"
      ]
     },
     "metadata": {},
     "output_type": "display_data"
    }
   ],
   "source": [
    "publish_height.plot(kind = 'bar');"
   ]
  }
 ],
 "metadata": {
  "kernelspec": {
   "display_name": "Python (dojo-env)",
   "language": "python",
   "name": "dojo-env"
  },
  "language_info": {
   "codemirror_mode": {
    "name": "ipython",
    "version": 3
   },
   "file_extension": ".py",
   "mimetype": "text/x-python",
   "name": "python",
   "nbconvert_exporter": "python",
   "pygments_lexer": "ipython3",
   "version": "3.9.15"
  },
  "toc": {
   "base_numbering": 1,
   "nav_menu": {},
   "number_sections": true,
   "sideBar": true,
   "skip_h1_title": false,
   "title_cell": "Table of Contents",
   "title_sidebar": "Contents",
   "toc_cell": false,
   "toc_position": {
    "height": "calc(100% - 180px)",
    "left": "10px",
    "top": "150px",
    "width": "261px"
   },
   "toc_section_display": true,
   "toc_window_display": false
  }
 },
 "nbformat": 4,
 "nbformat_minor": 5
}
